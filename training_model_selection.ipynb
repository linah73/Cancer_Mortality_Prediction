{
 "cells": [
  {
   "cell_type": "markdown",
   "metadata": {},
   "source": [
    "# Predict Cancer Death Rate by County"
   ]
  },
  {
   "cell_type": "code",
   "execution_count": 1,
   "metadata": {},
   "outputs": [],
   "source": [
    "import warnings\n",
    "warnings.filterwarnings('ignore')"
   ]
  },
  {
   "cell_type": "code",
   "execution_count": 2,
   "metadata": {},
   "outputs": [],
   "source": [
    "%matplotlib inline\n",
    "import numpy as np\n",
    "import scipy as sp\n",
    "import matplotlib as mpl\n",
    "import matplotlib.cm as cm\n",
    "from matplotlib.colors import ListedColormap\n",
    "import matplotlib.pyplot as plt\n",
    "import pandas as pd\n",
    "pd.set_option('display.width', 500)\n",
    "pd.set_option('display.max_columns', 100)\n",
    "pd.set_option('display.notebook_repr_html', True)\n",
    "import seaborn as sns\n",
    "sns.set_style(\"whitegrid\")\n",
    "sns.set_context(\"poster\")"
   ]
  },
  {
   "cell_type": "code",
   "execution_count": 3,
   "metadata": {},
   "outputs": [],
   "source": [
    "#Load Data\n",
    "df_cancer = pd.read_csv('df_cancer.csv', encoding=\"ISO-8859-1\")"
   ]
  },
  {
   "cell_type": "code",
   "execution_count": 4,
   "metadata": {},
   "outputs": [
    {
     "data": {
      "text/plain": [
       "(3047, 34)"
      ]
     },
     "execution_count": 4,
     "metadata": {},
     "output_type": "execute_result"
    }
   ],
   "source": [
    "df_cancer.shape"
   ]
  },
  {
   "cell_type": "code",
   "execution_count": 5,
   "metadata": {},
   "outputs": [
    {
     "name": "stdout",
     "output_type": "stream",
     "text": [
      "<class 'pandas.core.frame.DataFrame'>\n",
      "RangeIndex: 3047 entries, 0 to 3046\n",
      "Data columns (total 34 columns):\n",
      " #   Column                   Non-Null Count  Dtype  \n",
      "---  ------                   --------------  -----  \n",
      " 0   avgAnnCount              3047 non-null   float64\n",
      " 1   avgDeathsPerYear         3047 non-null   int64  \n",
      " 2   Deathrate                3047 non-null   float64\n",
      " 3   incidenceRate            3047 non-null   float64\n",
      " 4   medIncome                3047 non-null   int64  \n",
      " 5   popEst2015               3047 non-null   int64  \n",
      " 6   povertyPercent           3047 non-null   float64\n",
      " 7   studyPerCap              3047 non-null   float64\n",
      " 8   binnedInc                3047 non-null   object \n",
      " 9   MedianAge                3047 non-null   float64\n",
      " 10  MedianAgeMale            3047 non-null   float64\n",
      " 11  MedianAgeFemale          3047 non-null   float64\n",
      " 12  County                   3047 non-null   object \n",
      " 13  AvgHouseholdSize         3047 non-null   float64\n",
      " 14  PercentMarried           3047 non-null   float64\n",
      " 15  PctNoHS18_24             3047 non-null   float64\n",
      " 16  PctHS18_24               3047 non-null   float64\n",
      " 17  PctBachDeg18_24          3047 non-null   float64\n",
      " 18  PctHS25_Over             3047 non-null   float64\n",
      " 19  PctBachDeg25_Over        3047 non-null   float64\n",
      " 20  PctEmployed16_Over       2895 non-null   float64\n",
      " 21  PctUnemployed16_Over     3047 non-null   float64\n",
      " 22  PctPrivateCoverage       3047 non-null   float64\n",
      " 23  PctPrivateCoverageAlone  2438 non-null   float64\n",
      " 24  PctEmpPrivCoverage       3047 non-null   float64\n",
      " 25  PctPublicCoverage        3047 non-null   float64\n",
      " 26  PctPublicCoverageAlone   3047 non-null   float64\n",
      " 27  PctWhite                 3047 non-null   float64\n",
      " 28  PctBlack                 3047 non-null   float64\n",
      " 29  PctAsian                 3047 non-null   float64\n",
      " 30  PctOtherRace             3047 non-null   float64\n",
      " 31  PctMarriedHouseholds     3047 non-null   float64\n",
      " 32  BirthRate                3047 non-null   float64\n",
      " 33  State                    3047 non-null   object \n",
      "dtypes: float64(28), int64(3), object(3)\n",
      "memory usage: 809.5+ KB\n"
     ]
    }
   ],
   "source": [
    "df_cancer.info()"
   ]
  },
  {
   "cell_type": "markdown",
   "metadata": {},
   "source": [
    "## 4. Modeling"
   ]
  },
  {
   "cell_type": "markdown",
   "metadata": {},
   "source": [
    "### 4.1 Data Splitting, Imputation , Scaling and Encoding"
   ]
  },
  {
   "cell_type": "code",
   "execution_count": 6,
   "metadata": {},
   "outputs": [],
   "source": [
    "import pandas as pd\n",
    "import numpy as np\n",
    "import os\n",
    "import pickle\n",
    "import matplotlib.pyplot as plt\n",
    "import seaborn as sns\n",
    "from sklearn import __version__ as sklearn_version\n",
    "from sklearn.decomposition import PCA\n",
    "from sklearn.preprocessing import scale\n",
    "from sklearn.model_selection import train_test_split, cross_validate, GridSearchCV, learning_curve\n",
    "from sklearn.preprocessing import StandardScaler, MinMaxScaler\n",
    "from sklearn.dummy import DummyRegressor\n",
    "from sklearn.linear_model import LinearRegression\n",
    "from sklearn.ensemble import RandomForestRegressor\n",
    "from sklearn.metrics import r2_score, mean_squared_error, mean_absolute_error\n",
    "from sklearn.pipeline import make_pipeline\n",
    "from sklearn.impute import SimpleImputer\n",
    "from sklearn.feature_selection import SelectKBest, f_regression\n",
    "import datetime\n",
    "\n",
    "#from library.sb_utils import save_file"
   ]
  },
  {
   "cell_type": "code",
   "execution_count": 7,
   "metadata": {},
   "outputs": [],
   "source": [
    "from sklearn.compose import ColumnTransformer\n",
    "from sklearn.pipeline import Pipeline\n",
    "from sklearn.impute import SimpleImputer\n",
    "from sklearn.preprocessing import StandardScaler, OneHotEncoder\n",
    "from sklearn.preprocessing import OrdinalEncoder\n",
    "from sklearn.model_selection import train_test_split, GridSearchCV\n",
    "import math "
   ]
  },
  {
   "cell_type": "code",
   "execution_count": 8,
   "metadata": {},
   "outputs": [],
   "source": [
    "X = df_cancer.drop(columns=['Deathrate', 'County', 'State'])\n",
    "y = df_cancer.Deathrate"
   ]
  },
  {
   "cell_type": "code",
   "execution_count": 9,
   "metadata": {},
   "outputs": [
    {
     "data": {
      "text/html": [
       "<div>\n",
       "<style scoped>\n",
       "    .dataframe tbody tr th:only-of-type {\n",
       "        vertical-align: middle;\n",
       "    }\n",
       "\n",
       "    .dataframe tbody tr th {\n",
       "        vertical-align: top;\n",
       "    }\n",
       "\n",
       "    .dataframe thead th {\n",
       "        text-align: right;\n",
       "    }\n",
       "</style>\n",
       "<table border=\"1\" class=\"dataframe\">\n",
       "  <thead>\n",
       "    <tr style=\"text-align: right;\">\n",
       "      <th></th>\n",
       "      <th>avgAnnCount</th>\n",
       "      <th>avgDeathsPerYear</th>\n",
       "      <th>incidenceRate</th>\n",
       "      <th>medIncome</th>\n",
       "      <th>popEst2015</th>\n",
       "      <th>povertyPercent</th>\n",
       "      <th>studyPerCap</th>\n",
       "      <th>binnedInc</th>\n",
       "      <th>MedianAge</th>\n",
       "      <th>MedianAgeMale</th>\n",
       "      <th>MedianAgeFemale</th>\n",
       "      <th>AvgHouseholdSize</th>\n",
       "      <th>PercentMarried</th>\n",
       "      <th>PctNoHS18_24</th>\n",
       "      <th>PctHS18_24</th>\n",
       "      <th>PctBachDeg18_24</th>\n",
       "      <th>PctHS25_Over</th>\n",
       "      <th>PctBachDeg25_Over</th>\n",
       "      <th>PctEmployed16_Over</th>\n",
       "      <th>PctUnemployed16_Over</th>\n",
       "      <th>PctPrivateCoverage</th>\n",
       "      <th>PctPrivateCoverageAlone</th>\n",
       "      <th>PctEmpPrivCoverage</th>\n",
       "      <th>PctPublicCoverage</th>\n",
       "      <th>PctPublicCoverageAlone</th>\n",
       "      <th>PctWhite</th>\n",
       "      <th>PctBlack</th>\n",
       "      <th>PctAsian</th>\n",
       "      <th>PctOtherRace</th>\n",
       "      <th>PctMarriedHouseholds</th>\n",
       "      <th>BirthRate</th>\n",
       "    </tr>\n",
       "  </thead>\n",
       "  <tbody>\n",
       "    <tr>\n",
       "      <th>0</th>\n",
       "      <td>1397.0</td>\n",
       "      <td>469</td>\n",
       "      <td>489.8</td>\n",
       "      <td>61898</td>\n",
       "      <td>260131</td>\n",
       "      <td>11.2</td>\n",
       "      <td>499.748204</td>\n",
       "      <td>j</td>\n",
       "      <td>39.3</td>\n",
       "      <td>36.9</td>\n",
       "      <td>41.7</td>\n",
       "      <td>2.54</td>\n",
       "      <td>52.5</td>\n",
       "      <td>11.5</td>\n",
       "      <td>39.5</td>\n",
       "      <td>6.9</td>\n",
       "      <td>23.2</td>\n",
       "      <td>19.6</td>\n",
       "      <td>51.9</td>\n",
       "      <td>8.0</td>\n",
       "      <td>75.1</td>\n",
       "      <td>NaN</td>\n",
       "      <td>41.6</td>\n",
       "      <td>32.9</td>\n",
       "      <td>14.0</td>\n",
       "      <td>81.780529</td>\n",
       "      <td>2.594728</td>\n",
       "      <td>4.821857</td>\n",
       "      <td>1.843479</td>\n",
       "      <td>52.856076</td>\n",
       "      <td>6.118831</td>\n",
       "    </tr>\n",
       "    <tr>\n",
       "      <th>1</th>\n",
       "      <td>173.0</td>\n",
       "      <td>70</td>\n",
       "      <td>411.6</td>\n",
       "      <td>48127</td>\n",
       "      <td>43269</td>\n",
       "      <td>18.6</td>\n",
       "      <td>23.111234</td>\n",
       "      <td>g</td>\n",
       "      <td>33.0</td>\n",
       "      <td>32.2</td>\n",
       "      <td>33.7</td>\n",
       "      <td>2.34</td>\n",
       "      <td>44.5</td>\n",
       "      <td>6.1</td>\n",
       "      <td>22.4</td>\n",
       "      <td>7.5</td>\n",
       "      <td>26.0</td>\n",
       "      <td>22.7</td>\n",
       "      <td>55.9</td>\n",
       "      <td>7.8</td>\n",
       "      <td>70.2</td>\n",
       "      <td>53.8</td>\n",
       "      <td>43.6</td>\n",
       "      <td>31.1</td>\n",
       "      <td>15.3</td>\n",
       "      <td>89.228509</td>\n",
       "      <td>0.969102</td>\n",
       "      <td>2.246233</td>\n",
       "      <td>3.741352</td>\n",
       "      <td>45.372500</td>\n",
       "      <td>4.333096</td>\n",
       "    </tr>\n",
       "    <tr>\n",
       "      <th>2</th>\n",
       "      <td>102.0</td>\n",
       "      <td>50</td>\n",
       "      <td>349.7</td>\n",
       "      <td>49348</td>\n",
       "      <td>21026</td>\n",
       "      <td>14.6</td>\n",
       "      <td>47.560164</td>\n",
       "      <td>g</td>\n",
       "      <td>45.0</td>\n",
       "      <td>44.0</td>\n",
       "      <td>45.8</td>\n",
       "      <td>2.62</td>\n",
       "      <td>54.2</td>\n",
       "      <td>24.0</td>\n",
       "      <td>36.6</td>\n",
       "      <td>9.5</td>\n",
       "      <td>29.0</td>\n",
       "      <td>16.0</td>\n",
       "      <td>45.9</td>\n",
       "      <td>7.0</td>\n",
       "      <td>63.7</td>\n",
       "      <td>43.5</td>\n",
       "      <td>34.9</td>\n",
       "      <td>42.1</td>\n",
       "      <td>21.1</td>\n",
       "      <td>90.922190</td>\n",
       "      <td>0.739673</td>\n",
       "      <td>0.465898</td>\n",
       "      <td>2.747358</td>\n",
       "      <td>54.444868</td>\n",
       "      <td>3.729488</td>\n",
       "    </tr>\n",
       "    <tr>\n",
       "      <th>3</th>\n",
       "      <td>427.0</td>\n",
       "      <td>202</td>\n",
       "      <td>430.4</td>\n",
       "      <td>44243</td>\n",
       "      <td>75882</td>\n",
       "      <td>17.1</td>\n",
       "      <td>342.637253</td>\n",
       "      <td>e</td>\n",
       "      <td>42.8</td>\n",
       "      <td>42.2</td>\n",
       "      <td>43.4</td>\n",
       "      <td>2.52</td>\n",
       "      <td>52.7</td>\n",
       "      <td>20.2</td>\n",
       "      <td>41.2</td>\n",
       "      <td>2.5</td>\n",
       "      <td>31.6</td>\n",
       "      <td>9.3</td>\n",
       "      <td>48.3</td>\n",
       "      <td>12.1</td>\n",
       "      <td>58.4</td>\n",
       "      <td>40.3</td>\n",
       "      <td>35.0</td>\n",
       "      <td>45.3</td>\n",
       "      <td>25.0</td>\n",
       "      <td>91.744686</td>\n",
       "      <td>0.782626</td>\n",
       "      <td>1.161359</td>\n",
       "      <td>1.362643</td>\n",
       "      <td>51.021514</td>\n",
       "      <td>4.603841</td>\n",
       "    </tr>\n",
       "    <tr>\n",
       "      <th>4</th>\n",
       "      <td>57.0</td>\n",
       "      <td>26</td>\n",
       "      <td>350.1</td>\n",
       "      <td>49955</td>\n",
       "      <td>10321</td>\n",
       "      <td>12.5</td>\n",
       "      <td>0.000000</td>\n",
       "      <td>g</td>\n",
       "      <td>48.3</td>\n",
       "      <td>47.8</td>\n",
       "      <td>48.9</td>\n",
       "      <td>2.34</td>\n",
       "      <td>57.8</td>\n",
       "      <td>14.9</td>\n",
       "      <td>43.0</td>\n",
       "      <td>2.0</td>\n",
       "      <td>33.4</td>\n",
       "      <td>15.0</td>\n",
       "      <td>48.2</td>\n",
       "      <td>4.8</td>\n",
       "      <td>61.6</td>\n",
       "      <td>43.9</td>\n",
       "      <td>35.1</td>\n",
       "      <td>44.0</td>\n",
       "      <td>22.7</td>\n",
       "      <td>94.104024</td>\n",
       "      <td>0.270192</td>\n",
       "      <td>0.665830</td>\n",
       "      <td>0.492135</td>\n",
       "      <td>54.027460</td>\n",
       "      <td>6.796657</td>\n",
       "    </tr>\n",
       "  </tbody>\n",
       "</table>\n",
       "</div>"
      ],
      "text/plain": [
       "   avgAnnCount  avgDeathsPerYear  incidenceRate  medIncome  popEst2015  povertyPercent  studyPerCap binnedInc  MedianAge  MedianAgeMale  MedianAgeFemale  AvgHouseholdSize  PercentMarried  PctNoHS18_24  PctHS18_24  PctBachDeg18_24  PctHS25_Over  PctBachDeg25_Over  PctEmployed16_Over  PctUnemployed16_Over  PctPrivateCoverage  PctPrivateCoverageAlone  PctEmpPrivCoverage  PctPublicCoverage  PctPublicCoverageAlone   PctWhite  PctBlack  PctAsian  PctOtherRace  PctMarriedHouseholds  BirthRate\n",
       "0       1397.0               469          489.8      61898      260131            11.2   499.748204         j       39.3           36.9             41.7              2.54            52.5          11.5        39.5              6.9          23.2               19.6                51.9                   8.0                75.1                      NaN                41.6               32.9                    14.0  81.780529  2.594728  4.821857      1.843479             52.856076   6.118831\n",
       "1        173.0                70          411.6      48127       43269            18.6    23.111234         g       33.0           32.2             33.7              2.34            44.5           6.1        22.4              7.5          26.0               22.7                55.9                   7.8                70.2                     53.8                43.6               31.1                    15.3  89.228509  0.969102  2.246233      3.741352             45.372500   4.333096\n",
       "2        102.0                50          349.7      49348       21026            14.6    47.560164         g       45.0           44.0             45.8              2.62            54.2          24.0        36.6              9.5          29.0               16.0                45.9                   7.0                63.7                     43.5                34.9               42.1                    21.1  90.922190  0.739673  0.465898      2.747358             54.444868   3.729488\n",
       "3        427.0               202          430.4      44243       75882            17.1   342.637253         e       42.8           42.2             43.4              2.52            52.7          20.2        41.2              2.5          31.6                9.3                48.3                  12.1                58.4                     40.3                35.0               45.3                    25.0  91.744686  0.782626  1.161359      1.362643             51.021514   4.603841\n",
       "4         57.0                26          350.1      49955       10321            12.5     0.000000         g       48.3           47.8             48.9              2.34            57.8          14.9        43.0              2.0          33.4               15.0                48.2                   4.8                61.6                     43.9                35.1               44.0                    22.7  94.104024  0.270192  0.665830      0.492135             54.027460   6.796657"
      ]
     },
     "execution_count": 9,
     "metadata": {},
     "output_type": "execute_result"
    }
   ],
   "source": [
    "X.head()"
   ]
  },
  {
   "cell_type": "code",
   "execution_count": 10,
   "metadata": {},
   "outputs": [],
   "source": [
    "X_train, X_test, y_train, y_test = train_test_split(X, y, test_size=0.3, \n",
    "                                                    random_state=42)"
   ]
  },
  {
   "cell_type": "code",
   "execution_count": 11,
   "metadata": {},
   "outputs": [],
   "source": [
    "#pd.DataFrame(X_train).head()"
   ]
  },
  {
   "cell_type": "code",
   "execution_count": 12,
   "metadata": {},
   "outputs": [],
   "source": [
    "cat_bins = ['a', 'b', 'c', 'd', 'e', 'f', 'g', 'h', 'i', 'j']"
   ]
  },
  {
   "cell_type": "code",
   "execution_count": 13,
   "metadata": {},
   "outputs": [],
   "source": [
    "num_list = ['avgAnnCount', 'avgDeathsPerYear', 'incidenceRate', 'medIncome', \n",
    "            'popEst2015', 'povertyPercent', 'studyPerCap', 'MedianAge', 'MedianAgeMale', \n",
    "            'MedianAgeFemale', 'AvgHouseholdSize', 'PercentMarried', 'PctNoHS18_24', 'PctHS18_24', \n",
    "            'PctBachDeg18_24', 'PctHS25_Over', 'PctBachDeg25_Over', 'PctEmployed16_Over', \n",
    "            'PctUnemployed16_Over', 'PctPrivateCoverage', 'PctPrivateCoverageAlone', 'PctEmpPrivCoverage', \n",
    "            'PctPublicCoverage', 'PctPublicCoverageAlone', 'PctWhite', 'PctBlack', 'PctAsian', 'PctOtherRace', \n",
    "            'PctMarriedHouseholds', 'BirthRate']"
   ]
  },
  {
   "cell_type": "code",
   "execution_count": 14,
   "metadata": {},
   "outputs": [],
   "source": [
    "blist = ['binnedInc']"
   ]
  },
  {
   "cell_type": "code",
   "execution_count": 15,
   "metadata": {},
   "outputs": [],
   "source": [
    "# We create the preprocessing pipelines for both numeric and categorical data.\n",
    "numeric_transformer = Pipeline(steps=[\n",
    "    ('imputer', SimpleImputer(strategy='median')),\n",
    "    ('scaler', StandardScaler())])\n",
    "\n",
    "Bin_transformer = Pipeline(steps=[\n",
    "    (\"ordinal_encoder\", OrdinalEncoder(categories= [cat_bins]))])\n",
    "\n",
    "#combine numeric and categorical pipelines\n",
    "preprocess_pipe = ColumnTransformer(\n",
    "    transformers=[\n",
    "        ('num', numeric_transformer, num_list),\n",
    "        ('bincat', Bin_transformer, blist)])\n"
   ]
  },
  {
   "cell_type": "code",
   "execution_count": 16,
   "metadata": {},
   "outputs": [],
   "source": [
    "\n",
    "# fit the pipelines to the training data\n",
    "preprocess_pipe.fit_transform(X_train)\n",
    "\n",
    "# apply the pipelines to the training and test data\n",
    "X_train = preprocess_pipe.transform(X_train)\n",
    "X_test = preprocess_pipe.transform(X_test)"
   ]
  },
  {
   "cell_type": "code",
   "execution_count": 17,
   "metadata": {},
   "outputs": [],
   "source": [
    "X_train = pd.DataFrame(X_train, columns = (num_list+blist))"
   ]
  },
  {
   "cell_type": "code",
   "execution_count": 18,
   "metadata": {},
   "outputs": [
    {
     "data": {
      "text/html": [
       "<div>\n",
       "<style scoped>\n",
       "    .dataframe tbody tr th:only-of-type {\n",
       "        vertical-align: middle;\n",
       "    }\n",
       "\n",
       "    .dataframe tbody tr th {\n",
       "        vertical-align: top;\n",
       "    }\n",
       "\n",
       "    .dataframe thead th {\n",
       "        text-align: right;\n",
       "    }\n",
       "</style>\n",
       "<table border=\"1\" class=\"dataframe\">\n",
       "  <thead>\n",
       "    <tr style=\"text-align: right;\">\n",
       "      <th></th>\n",
       "      <th>avgAnnCount</th>\n",
       "      <th>avgDeathsPerYear</th>\n",
       "      <th>incidenceRate</th>\n",
       "      <th>medIncome</th>\n",
       "      <th>popEst2015</th>\n",
       "      <th>povertyPercent</th>\n",
       "      <th>studyPerCap</th>\n",
       "      <th>MedianAge</th>\n",
       "      <th>MedianAgeMale</th>\n",
       "      <th>MedianAgeFemale</th>\n",
       "      <th>AvgHouseholdSize</th>\n",
       "      <th>PercentMarried</th>\n",
       "      <th>PctNoHS18_24</th>\n",
       "      <th>PctHS18_24</th>\n",
       "      <th>PctBachDeg18_24</th>\n",
       "      <th>PctHS25_Over</th>\n",
       "      <th>PctBachDeg25_Over</th>\n",
       "      <th>PctEmployed16_Over</th>\n",
       "      <th>PctUnemployed16_Over</th>\n",
       "      <th>PctPrivateCoverage</th>\n",
       "      <th>PctPrivateCoverageAlone</th>\n",
       "      <th>PctEmpPrivCoverage</th>\n",
       "      <th>PctPublicCoverage</th>\n",
       "      <th>PctPublicCoverageAlone</th>\n",
       "      <th>PctWhite</th>\n",
       "      <th>PctBlack</th>\n",
       "      <th>PctAsian</th>\n",
       "      <th>PctOtherRace</th>\n",
       "      <th>PctMarriedHouseholds</th>\n",
       "      <th>BirthRate</th>\n",
       "      <th>binnedInc</th>\n",
       "    </tr>\n",
       "  </thead>\n",
       "  <tbody>\n",
       "    <tr>\n",
       "      <th>0</th>\n",
       "      <td>-0.395989</td>\n",
       "      <td>-0.313079</td>\n",
       "      <td>-0.514776</td>\n",
       "      <td>-1.216887</td>\n",
       "      <td>-0.310357</td>\n",
       "      <td>0.819610</td>\n",
       "      <td>-0.28888</td>\n",
       "      <td>0.050276</td>\n",
       "      <td>1.209209</td>\n",
       "      <td>1.551543</td>\n",
       "      <td>-0.497547</td>\n",
       "      <td>0.710666</td>\n",
       "      <td>0.401975</td>\n",
       "      <td>0.141348</td>\n",
       "      <td>-1.323715</td>\n",
       "      <td>0.728347</td>\n",
       "      <td>-0.978466</td>\n",
       "      <td>-1.674465</td>\n",
       "      <td>0.646963</td>\n",
       "      <td>-1.075292</td>\n",
       "      <td>-0.005523</td>\n",
       "      <td>-1.315517</td>\n",
       "      <td>1.699384</td>\n",
       "      <td>1.241834</td>\n",
       "      <td>0.816995</td>\n",
       "      <td>-0.541774</td>\n",
       "      <td>-0.394545</td>\n",
       "      <td>-0.453103</td>\n",
       "      <td>0.603736</td>\n",
       "      <td>-0.415957</td>\n",
       "      <td>0.0</td>\n",
       "    </tr>\n",
       "    <tr>\n",
       "      <th>1</th>\n",
       "      <td>1.070419</td>\n",
       "      <td>-0.393116</td>\n",
       "      <td>0.093336</td>\n",
       "      <td>-0.145842</td>\n",
       "      <td>-0.348968</td>\n",
       "      <td>-0.770099</td>\n",
       "      <td>-0.28888</td>\n",
       "      <td>0.086012</td>\n",
       "      <td>1.800107</td>\n",
       "      <td>1.832973</td>\n",
       "      <td>-0.882801</td>\n",
       "      <td>1.309946</td>\n",
       "      <td>0.119514</td>\n",
       "      <td>-1.473368</td>\n",
       "      <td>2.623642</td>\n",
       "      <td>-0.318502</td>\n",
       "      <td>1.299823</td>\n",
       "      <td>0.666068</td>\n",
       "      <td>-1.589765</td>\n",
       "      <td>1.204429</td>\n",
       "      <td>-0.196513</td>\n",
       "      <td>-0.431344</td>\n",
       "      <td>0.333840</td>\n",
       "      <td>-1.071716</td>\n",
       "      <td>0.505452</td>\n",
       "      <td>-0.409662</td>\n",
       "      <td>-0.019744</td>\n",
       "      <td>-0.563402</td>\n",
       "      <td>0.305638</td>\n",
       "      <td>2.599053</td>\n",
       "      <td>5.0</td>\n",
       "    </tr>\n",
       "    <tr>\n",
       "      <th>2</th>\n",
       "      <td>-0.347362</td>\n",
       "      <td>-0.261945</td>\n",
       "      <td>-0.255576</td>\n",
       "      <td>-0.161401</td>\n",
       "      <td>-0.264898</td>\n",
       "      <td>-0.595231</td>\n",
       "      <td>-0.28888</td>\n",
       "      <td>-0.027500</td>\n",
       "      <td>0.637371</td>\n",
       "      <td>0.707253</td>\n",
       "      <td>-0.015980</td>\n",
       "      <td>-0.487893</td>\n",
       "      <td>-0.040138</td>\n",
       "      <td>0.860229</td>\n",
       "      <td>0.281990</td>\n",
       "      <td>1.043836</td>\n",
       "      <td>-0.806159</td>\n",
       "      <td>-0.155609</td>\n",
       "      <td>-0.206525</td>\n",
       "      <td>0.155185</td>\n",
       "      <td>-0.252686</td>\n",
       "      <td>0.016069</td>\n",
       "      <td>0.841042</td>\n",
       "      <td>0.370061</td>\n",
       "      <td>0.654669</td>\n",
       "      <td>-0.461395</td>\n",
       "      <td>-0.307964</td>\n",
       "      <td>-0.463634</td>\n",
       "      <td>-0.236884</td>\n",
       "      <td>-0.345826</td>\n",
       "      <td>4.0</td>\n",
       "    </tr>\n",
       "    <tr>\n",
       "      <th>3</th>\n",
       "      <td>-0.226577</td>\n",
       "      <td>-0.068523</td>\n",
       "      <td>-0.714161</td>\n",
       "      <td>-1.079999</td>\n",
       "      <td>-0.157246</td>\n",
       "      <td>1.232934</td>\n",
       "      <td>-0.28888</td>\n",
       "      <td>-0.044317</td>\n",
       "      <td>0.542065</td>\n",
       "      <td>0.519633</td>\n",
       "      <td>-0.425312</td>\n",
       "      <td>0.199086</td>\n",
       "      <td>-0.801554</td>\n",
       "      <td>0.074990</td>\n",
       "      <td>-0.007929</td>\n",
       "      <td>0.570603</td>\n",
       "      <td>-0.480689</td>\n",
       "      <td>-0.628695</td>\n",
       "      <td>0.087781</td>\n",
       "      <td>-0.617440</td>\n",
       "      <td>-0.881831</td>\n",
       "      <td>-0.687008</td>\n",
       "      <td>0.867053</td>\n",
       "      <td>0.604769</td>\n",
       "      <td>0.799673</td>\n",
       "      <td>-0.536022</td>\n",
       "      <td>-0.347211</td>\n",
       "      <td>-0.538258</td>\n",
       "      <td>-0.117413</td>\n",
       "      <td>-0.990820</td>\n",
       "      <td>1.0</td>\n",
       "    </tr>\n",
       "    <tr>\n",
       "      <th>4</th>\n",
       "      <td>-0.453244</td>\n",
       "      <td>-0.390893</td>\n",
       "      <td>-2.561187</td>\n",
       "      <td>0.866027</td>\n",
       "      <td>-0.341497</td>\n",
       "      <td>-1.151629</td>\n",
       "      <td>-0.28888</td>\n",
       "      <td>0.151176</td>\n",
       "      <td>2.219454</td>\n",
       "      <td>2.133165</td>\n",
       "      <td>-0.425312</td>\n",
       "      <td>1.339179</td>\n",
       "      <td>-0.113823</td>\n",
       "      <td>0.263005</td>\n",
       "      <td>-0.833083</td>\n",
       "      <td>-2.225777</td>\n",
       "      <td>3.367515</td>\n",
       "      <td>0.267679</td>\n",
       "      <td>-0.324248</td>\n",
       "      <td>0.517651</td>\n",
       "      <td>0.151764</td>\n",
       "      <td>-1.017242</td>\n",
       "      <td>-0.160357</td>\n",
       "      <td>-0.887303</td>\n",
       "      <td>0.863953</td>\n",
       "      <td>-0.626071</td>\n",
       "      <td>-0.159600</td>\n",
       "      <td>-0.563402</td>\n",
       "      <td>0.859057</td>\n",
       "      <td>-1.682126</td>\n",
       "      <td>8.0</td>\n",
       "    </tr>\n",
       "  </tbody>\n",
       "</table>\n",
       "</div>"
      ],
      "text/plain": [
       "   avgAnnCount  avgDeathsPerYear  incidenceRate  medIncome  popEst2015  povertyPercent  studyPerCap  MedianAge  MedianAgeMale  MedianAgeFemale  AvgHouseholdSize  PercentMarried  PctNoHS18_24  PctHS18_24  PctBachDeg18_24  PctHS25_Over  PctBachDeg25_Over  PctEmployed16_Over  PctUnemployed16_Over  PctPrivateCoverage  PctPrivateCoverageAlone  PctEmpPrivCoverage  PctPublicCoverage  PctPublicCoverageAlone  PctWhite  PctBlack  PctAsian  PctOtherRace  PctMarriedHouseholds  BirthRate  binnedInc\n",
       "0    -0.395989         -0.313079      -0.514776  -1.216887   -0.310357        0.819610     -0.28888   0.050276       1.209209         1.551543         -0.497547        0.710666      0.401975    0.141348        -1.323715      0.728347          -0.978466           -1.674465              0.646963           -1.075292                -0.005523           -1.315517           1.699384                1.241834  0.816995 -0.541774 -0.394545     -0.453103              0.603736  -0.415957        0.0\n",
       "1     1.070419         -0.393116       0.093336  -0.145842   -0.348968       -0.770099     -0.28888   0.086012       1.800107         1.832973         -0.882801        1.309946      0.119514   -1.473368         2.623642     -0.318502           1.299823            0.666068             -1.589765            1.204429                -0.196513           -0.431344           0.333840               -1.071716  0.505452 -0.409662 -0.019744     -0.563402              0.305638   2.599053        5.0\n",
       "2    -0.347362         -0.261945      -0.255576  -0.161401   -0.264898       -0.595231     -0.28888  -0.027500       0.637371         0.707253         -0.015980       -0.487893     -0.040138    0.860229         0.281990      1.043836          -0.806159           -0.155609             -0.206525            0.155185                -0.252686            0.016069           0.841042                0.370061  0.654669 -0.461395 -0.307964     -0.463634             -0.236884  -0.345826        4.0\n",
       "3    -0.226577         -0.068523      -0.714161  -1.079999   -0.157246        1.232934     -0.28888  -0.044317       0.542065         0.519633         -0.425312        0.199086     -0.801554    0.074990        -0.007929      0.570603          -0.480689           -0.628695              0.087781           -0.617440                -0.881831           -0.687008           0.867053                0.604769  0.799673 -0.536022 -0.347211     -0.538258             -0.117413  -0.990820        1.0\n",
       "4    -0.453244         -0.390893      -2.561187   0.866027   -0.341497       -1.151629     -0.28888   0.151176       2.219454         2.133165         -0.425312        1.339179     -0.113823    0.263005        -0.833083     -2.225777           3.367515            0.267679             -0.324248            0.517651                 0.151764           -1.017242          -0.160357               -0.887303  0.863953 -0.626071 -0.159600     -0.563402              0.859057  -1.682126        8.0"
      ]
     },
     "execution_count": 18,
     "metadata": {},
     "output_type": "execute_result"
    }
   ],
   "source": [
    "X_train.head()"
   ]
  },
  {
   "cell_type": "code",
   "execution_count": 19,
   "metadata": {},
   "outputs": [],
   "source": [
    "X_test = pd.DataFrame(X_test, columns = (num_list+blist))"
   ]
  },
  {
   "cell_type": "markdown",
   "metadata": {},
   "source": [
    "## Dummy model"
   ]
  },
  {
   "cell_type": "code",
   "execution_count": 28,
   "metadata": {},
   "outputs": [
    {
     "data": {
      "text/plain": [
       "178.70745778611618"
      ]
     },
     "execution_count": 28,
     "metadata": {},
     "output_type": "execute_result"
    }
   ],
   "source": [
    "\n",
    "#Calculate the mean of `y_train`\n",
    "train_mean = y_train.mean()\n",
    "train_mean"
   ]
  },
  {
   "cell_type": "code",
   "execution_count": 29,
   "metadata": {},
   "outputs": [
    {
     "data": {
      "text/plain": [
       "array([[178.70745779]])"
      ]
     },
     "execution_count": 29,
     "metadata": {},
     "output_type": "execute_result"
    }
   ],
   "source": [
    "#Fit the dummy regressor on the training data\n",
    "dumb_reg = DummyRegressor(strategy='mean')\n",
    "dumb_reg.fit(X_train, y_train)\n",
    "dumb_reg.constant_"
   ]
  },
  {
   "cell_type": "markdown",
   "metadata": {},
   "source": [
    "### 4.2 Linear Regression Model"
   ]
  },
  {
   "cell_type": "markdown",
   "metadata": {},
   "source": [
    "### Linear regression base model"
   ]
  },
  {
   "cell_type": "code",
   "execution_count": 20,
   "metadata": {},
   "outputs": [],
   "source": [
    "from sklearn.model_selection import cross_val_score\n",
    "# function to get cross validation scores\n",
    "def get_cv_scores(model):\n",
    "    scores = cross_val_score(model,\n",
    "                             X_train,\n",
    "                             y_train,\n",
    "                             cv=5,\n",
    "                             scoring='r2')\n",
    "    \n",
    "    print('CV Mean: ', np.mean(scores))\n",
    "    print('STD: ', np.std(scores))\n",
    "    print('\\n')"
   ]
  },
  {
   "cell_type": "code",
   "execution_count": 21,
   "metadata": {},
   "outputs": [
    {
     "name": "stdout",
     "output_type": "stream",
     "text": [
      "CV Mean:  0.5192680855348089\n",
      "STD:  0.04791262617150267\n",
      "\n",
      "\n"
     ]
    }
   ],
   "source": [
    "# Train model\n",
    "lr = LinearRegression().fit(X_train, y_train)\n",
    "# get cross val scores\n",
    "get_cv_scores(lr)"
   ]
  },
  {
   "cell_type": "markdown",
   "metadata": {},
   "source": [
    "### Linear Regression Model 1"
   ]
  },
  {
   "cell_type": "code",
   "execution_count": 22,
   "metadata": {},
   "outputs": [
    {
     "data": {
      "text/html": [
       "<div>\n",
       "<style scoped>\n",
       "    .dataframe tbody tr th:only-of-type {\n",
       "        vertical-align: middle;\n",
       "    }\n",
       "\n",
       "    .dataframe tbody tr th {\n",
       "        vertical-align: top;\n",
       "    }\n",
       "\n",
       "    .dataframe thead th {\n",
       "        text-align: right;\n",
       "    }\n",
       "</style>\n",
       "<table border=\"1\" class=\"dataframe\">\n",
       "  <thead>\n",
       "    <tr style=\"text-align: right;\">\n",
       "      <th></th>\n",
       "      <th>avgAnnCount</th>\n",
       "      <th>avgDeathsPerYear</th>\n",
       "      <th>incidenceRate</th>\n",
       "      <th>medIncome</th>\n",
       "      <th>popEst2015</th>\n",
       "      <th>povertyPercent</th>\n",
       "      <th>studyPerCap</th>\n",
       "      <th>MedianAge</th>\n",
       "      <th>MedianAgeMale</th>\n",
       "      <th>MedianAgeFemale</th>\n",
       "      <th>AvgHouseholdSize</th>\n",
       "      <th>PercentMarried</th>\n",
       "      <th>PctNoHS18_24</th>\n",
       "      <th>PctHS18_24</th>\n",
       "      <th>PctBachDeg18_24</th>\n",
       "      <th>PctHS25_Over</th>\n",
       "      <th>PctBachDeg25_Over</th>\n",
       "      <th>PctEmployed16_Over</th>\n",
       "      <th>PctUnemployed16_Over</th>\n",
       "      <th>PctPrivateCoverage</th>\n",
       "      <th>PctPrivateCoverageAlone</th>\n",
       "      <th>PctEmpPrivCoverage</th>\n",
       "      <th>PctPublicCoverage</th>\n",
       "      <th>PctPublicCoverageAlone</th>\n",
       "      <th>PctWhite</th>\n",
       "      <th>PctBlack</th>\n",
       "      <th>PctAsian</th>\n",
       "      <th>PctOtherRace</th>\n",
       "      <th>PctMarriedHouseholds</th>\n",
       "      <th>BirthRate</th>\n",
       "      <th>binnedInc</th>\n",
       "    </tr>\n",
       "  </thead>\n",
       "  <tbody>\n",
       "    <tr>\n",
       "      <th>0</th>\n",
       "      <td>-0.395989</td>\n",
       "      <td>-0.313079</td>\n",
       "      <td>-0.514776</td>\n",
       "      <td>-1.216887</td>\n",
       "      <td>-0.310357</td>\n",
       "      <td>0.819610</td>\n",
       "      <td>-0.288880</td>\n",
       "      <td>0.050276</td>\n",
       "      <td>1.209209</td>\n",
       "      <td>1.551543</td>\n",
       "      <td>-0.497547</td>\n",
       "      <td>0.710666</td>\n",
       "      <td>0.401975</td>\n",
       "      <td>0.141348</td>\n",
       "      <td>-1.323715</td>\n",
       "      <td>0.728347</td>\n",
       "      <td>-0.978466</td>\n",
       "      <td>-1.674465</td>\n",
       "      <td>0.646963</td>\n",
       "      <td>-1.075292</td>\n",
       "      <td>-0.005523</td>\n",
       "      <td>-1.315517</td>\n",
       "      <td>1.699384</td>\n",
       "      <td>1.241834</td>\n",
       "      <td>0.816995</td>\n",
       "      <td>-0.541774</td>\n",
       "      <td>-0.394545</td>\n",
       "      <td>-0.453103</td>\n",
       "      <td>0.603736</td>\n",
       "      <td>-0.415957</td>\n",
       "      <td>0.0</td>\n",
       "    </tr>\n",
       "    <tr>\n",
       "      <th>1</th>\n",
       "      <td>1.070419</td>\n",
       "      <td>-0.393116</td>\n",
       "      <td>0.093336</td>\n",
       "      <td>-0.145842</td>\n",
       "      <td>-0.348968</td>\n",
       "      <td>-0.770099</td>\n",
       "      <td>-0.288880</td>\n",
       "      <td>0.086012</td>\n",
       "      <td>1.800107</td>\n",
       "      <td>1.832973</td>\n",
       "      <td>-0.882801</td>\n",
       "      <td>1.309946</td>\n",
       "      <td>0.119514</td>\n",
       "      <td>-1.473368</td>\n",
       "      <td>2.623642</td>\n",
       "      <td>-0.318502</td>\n",
       "      <td>1.299823</td>\n",
       "      <td>0.666068</td>\n",
       "      <td>-1.589765</td>\n",
       "      <td>1.204429</td>\n",
       "      <td>-0.196513</td>\n",
       "      <td>-0.431344</td>\n",
       "      <td>0.333840</td>\n",
       "      <td>-1.071716</td>\n",
       "      <td>0.505452</td>\n",
       "      <td>-0.409662</td>\n",
       "      <td>-0.019744</td>\n",
       "      <td>-0.563402</td>\n",
       "      <td>0.305638</td>\n",
       "      <td>2.599053</td>\n",
       "      <td>5.0</td>\n",
       "    </tr>\n",
       "    <tr>\n",
       "      <th>2</th>\n",
       "      <td>-0.347362</td>\n",
       "      <td>-0.261945</td>\n",
       "      <td>-0.255576</td>\n",
       "      <td>-0.161401</td>\n",
       "      <td>-0.264898</td>\n",
       "      <td>-0.595231</td>\n",
       "      <td>-0.288880</td>\n",
       "      <td>-0.027500</td>\n",
       "      <td>0.637371</td>\n",
       "      <td>0.707253</td>\n",
       "      <td>-0.015980</td>\n",
       "      <td>-0.487893</td>\n",
       "      <td>-0.040138</td>\n",
       "      <td>0.860229</td>\n",
       "      <td>0.281990</td>\n",
       "      <td>1.043836</td>\n",
       "      <td>-0.806159</td>\n",
       "      <td>-0.155609</td>\n",
       "      <td>-0.206525</td>\n",
       "      <td>0.155185</td>\n",
       "      <td>-0.252686</td>\n",
       "      <td>0.016069</td>\n",
       "      <td>0.841042</td>\n",
       "      <td>0.370061</td>\n",
       "      <td>0.654669</td>\n",
       "      <td>-0.461395</td>\n",
       "      <td>-0.307964</td>\n",
       "      <td>-0.463634</td>\n",
       "      <td>-0.236884</td>\n",
       "      <td>-0.345826</td>\n",
       "      <td>4.0</td>\n",
       "    </tr>\n",
       "    <tr>\n",
       "      <th>3</th>\n",
       "      <td>-0.226577</td>\n",
       "      <td>-0.068523</td>\n",
       "      <td>-0.714161</td>\n",
       "      <td>-1.079999</td>\n",
       "      <td>-0.157246</td>\n",
       "      <td>1.232934</td>\n",
       "      <td>-0.288880</td>\n",
       "      <td>-0.044317</td>\n",
       "      <td>0.542065</td>\n",
       "      <td>0.519633</td>\n",
       "      <td>-0.425312</td>\n",
       "      <td>0.199086</td>\n",
       "      <td>-0.801554</td>\n",
       "      <td>0.074990</td>\n",
       "      <td>-0.007929</td>\n",
       "      <td>0.570603</td>\n",
       "      <td>-0.480689</td>\n",
       "      <td>-0.628695</td>\n",
       "      <td>0.087781</td>\n",
       "      <td>-0.617440</td>\n",
       "      <td>-0.881831</td>\n",
       "      <td>-0.687008</td>\n",
       "      <td>0.867053</td>\n",
       "      <td>0.604769</td>\n",
       "      <td>0.799673</td>\n",
       "      <td>-0.536022</td>\n",
       "      <td>-0.347211</td>\n",
       "      <td>-0.538258</td>\n",
       "      <td>-0.117413</td>\n",
       "      <td>-0.990820</td>\n",
       "      <td>1.0</td>\n",
       "    </tr>\n",
       "    <tr>\n",
       "      <th>4</th>\n",
       "      <td>-0.453244</td>\n",
       "      <td>-0.390893</td>\n",
       "      <td>-2.561187</td>\n",
       "      <td>0.866027</td>\n",
       "      <td>-0.341497</td>\n",
       "      <td>-1.151629</td>\n",
       "      <td>-0.288880</td>\n",
       "      <td>0.151176</td>\n",
       "      <td>2.219454</td>\n",
       "      <td>2.133165</td>\n",
       "      <td>-0.425312</td>\n",
       "      <td>1.339179</td>\n",
       "      <td>-0.113823</td>\n",
       "      <td>0.263005</td>\n",
       "      <td>-0.833083</td>\n",
       "      <td>-2.225777</td>\n",
       "      <td>3.367515</td>\n",
       "      <td>0.267679</td>\n",
       "      <td>-0.324248</td>\n",
       "      <td>0.517651</td>\n",
       "      <td>0.151764</td>\n",
       "      <td>-1.017242</td>\n",
       "      <td>-0.160357</td>\n",
       "      <td>-0.887303</td>\n",
       "      <td>0.863953</td>\n",
       "      <td>-0.626071</td>\n",
       "      <td>-0.159600</td>\n",
       "      <td>-0.563402</td>\n",
       "      <td>0.859057</td>\n",
       "      <td>-1.682126</td>\n",
       "      <td>8.0</td>\n",
       "    </tr>\n",
       "    <tr>\n",
       "      <th>...</th>\n",
       "      <td>...</td>\n",
       "      <td>...</td>\n",
       "      <td>...</td>\n",
       "      <td>...</td>\n",
       "      <td>...</td>\n",
       "      <td>...</td>\n",
       "      <td>...</td>\n",
       "      <td>...</td>\n",
       "      <td>...</td>\n",
       "      <td>...</td>\n",
       "      <td>...</td>\n",
       "      <td>...</td>\n",
       "      <td>...</td>\n",
       "      <td>...</td>\n",
       "      <td>...</td>\n",
       "      <td>...</td>\n",
       "      <td>...</td>\n",
       "      <td>...</td>\n",
       "      <td>...</td>\n",
       "      <td>...</td>\n",
       "      <td>...</td>\n",
       "      <td>...</td>\n",
       "      <td>...</td>\n",
       "      <td>...</td>\n",
       "      <td>...</td>\n",
       "      <td>...</td>\n",
       "      <td>...</td>\n",
       "      <td>...</td>\n",
       "      <td>...</td>\n",
       "      <td>...</td>\n",
       "      <td>...</td>\n",
       "    </tr>\n",
       "    <tr>\n",
       "      <th>2127</th>\n",
       "      <td>-0.206185</td>\n",
       "      <td>-0.061853</td>\n",
       "      <td>-0.048941</td>\n",
       "      <td>-0.463236</td>\n",
       "      <td>-0.140801</td>\n",
       "      <td>0.104241</td>\n",
       "      <td>-0.229579</td>\n",
       "      <td>-0.094767</td>\n",
       "      <td>0.046473</td>\n",
       "      <td>-0.024465</td>\n",
       "      <td>0.272960</td>\n",
       "      <td>-0.268645</td>\n",
       "      <td>-0.224351</td>\n",
       "      <td>0.727512</td>\n",
       "      <td>-0.007929</td>\n",
       "      <td>1.172900</td>\n",
       "      <td>-0.748723</td>\n",
       "      <td>-0.578897</td>\n",
       "      <td>0.058351</td>\n",
       "      <td>-0.169126</td>\n",
       "      <td>-0.005523</td>\n",
       "      <td>0.122596</td>\n",
       "      <td>0.828037</td>\n",
       "      <td>0.705359</td>\n",
       "      <td>0.720577</td>\n",
       "      <td>-0.474954</td>\n",
       "      <td>-0.305512</td>\n",
       "      <td>-0.534010</td>\n",
       "      <td>-0.243522</td>\n",
       "      <td>-0.130923</td>\n",
       "      <td>3.0</td>\n",
       "    </tr>\n",
       "    <tr>\n",
       "      <th>2128</th>\n",
       "      <td>-0.380303</td>\n",
       "      <td>-0.324196</td>\n",
       "      <td>0.886354</td>\n",
       "      <td>1.207567</td>\n",
       "      <td>-0.296647</td>\n",
       "      <td>-1.247012</td>\n",
       "      <td>-0.288880</td>\n",
       "      <td>0.004031</td>\n",
       "      <td>1.018596</td>\n",
       "      <td>0.969921</td>\n",
       "      <td>0.730449</td>\n",
       "      <td>-0.677909</td>\n",
       "      <td>-1.415599</td>\n",
       "      <td>-1.108398</td>\n",
       "      <td>3.649509</td>\n",
       "      <td>-1.695182</td>\n",
       "      <td>2.276233</td>\n",
       "      <td>0.989758</td>\n",
       "      <td>-0.765707</td>\n",
       "      <td>0.584422</td>\n",
       "      <td>-0.005523</td>\n",
       "      <td>0.250428</td>\n",
       "      <td>-0.186367</td>\n",
       "      <td>0.118589</td>\n",
       "      <td>0.548994</td>\n",
       "      <td>-0.393192</td>\n",
       "      <td>-0.176299</td>\n",
       "      <td>-0.288837</td>\n",
       "      <td>0.323484</td>\n",
       "      <td>-1.212346</td>\n",
       "      <td>8.0</td>\n",
       "    </tr>\n",
       "    <tr>\n",
       "      <th>2129</th>\n",
       "      <td>-0.021087</td>\n",
       "      <td>0.060425</td>\n",
       "      <td>0.159506</td>\n",
       "      <td>0.232429</td>\n",
       "      <td>0.062333</td>\n",
       "      <td>-0.674717</td>\n",
       "      <td>0.937328</td>\n",
       "      <td>-0.216687</td>\n",
       "      <td>-0.963773</td>\n",
       "      <td>-1.093898</td>\n",
       "      <td>-0.184529</td>\n",
       "      <td>-0.677909</td>\n",
       "      <td>-1.587532</td>\n",
       "      <td>-0.942502</td>\n",
       "      <td>0.505004</td>\n",
       "      <td>-1.035523</td>\n",
       "      <td>1.204097</td>\n",
       "      <td>1.350798</td>\n",
       "      <td>-0.706846</td>\n",
       "      <td>1.194891</td>\n",
       "      <td>1.567339</td>\n",
       "      <td>1.624625</td>\n",
       "      <td>-0.992688</td>\n",
       "      <td>-0.920833</td>\n",
       "      <td>0.479827</td>\n",
       "      <td>-0.528629</td>\n",
       "      <td>1.229774</td>\n",
       "      <td>-0.384152</td>\n",
       "      <td>-0.557245</td>\n",
       "      <td>-0.353065</td>\n",
       "      <td>6.0</td>\n",
       "    </tr>\n",
       "    <tr>\n",
       "      <th>2130</th>\n",
       "      <td>1.070419</td>\n",
       "      <td>-0.390893</td>\n",
       "      <td>0.093336</td>\n",
       "      <td>0.325615</td>\n",
       "      <td>-0.348794</td>\n",
       "      <td>-1.024453</td>\n",
       "      <td>-0.288880</td>\n",
       "      <td>0.035562</td>\n",
       "      <td>1.094841</td>\n",
       "      <td>1.495257</td>\n",
       "      <td>-0.569782</td>\n",
       "      <td>2.523122</td>\n",
       "      <td>-1.169981</td>\n",
       "      <td>-0.677069</td>\n",
       "      <td>0.036674</td>\n",
       "      <td>0.398518</td>\n",
       "      <td>0.802046</td>\n",
       "      <td>1.039557</td>\n",
       "      <td>-1.736918</td>\n",
       "      <td>0.985042</td>\n",
       "      <td>-0.005523</td>\n",
       "      <td>-0.655050</td>\n",
       "      <td>-0.511496</td>\n",
       "      <td>-1.105246</td>\n",
       "      <td>0.812459</td>\n",
       "      <td>-0.556825</td>\n",
       "      <td>-0.267121</td>\n",
       "      <td>-0.523133</td>\n",
       "      <td>1.719896</td>\n",
       "      <td>1.664770</td>\n",
       "      <td>6.0</td>\n",
       "    </tr>\n",
       "    <tr>\n",
       "      <th>2131</th>\n",
       "      <td>0.112247</td>\n",
       "      <td>0.278302</td>\n",
       "      <td>0.543775</td>\n",
       "      <td>-0.127562</td>\n",
       "      <td>0.068622</td>\n",
       "      <td>-0.483952</td>\n",
       "      <td>0.254783</td>\n",
       "      <td>-0.035909</td>\n",
       "      <td>0.694555</td>\n",
       "      <td>0.463347</td>\n",
       "      <td>-0.497547</td>\n",
       "      <td>-0.327111</td>\n",
       "      <td>-0.948925</td>\n",
       "      <td>0.097110</td>\n",
       "      <td>0.371196</td>\n",
       "      <td>0.097369</td>\n",
       "      <td>0.399995</td>\n",
       "      <td>0.018686</td>\n",
       "      <td>-0.029941</td>\n",
       "      <td>0.307803</td>\n",
       "      <td>0.185468</td>\n",
       "      <td>0.378260</td>\n",
       "      <td>0.385861</td>\n",
       "      <td>-0.049060</td>\n",
       "      <td>0.757960</td>\n",
       "      <td>-0.570645</td>\n",
       "      <td>-0.181968</td>\n",
       "      <td>-0.451549</td>\n",
       "      <td>-0.635417</td>\n",
       "      <td>-0.410163</td>\n",
       "      <td>5.0</td>\n",
       "    </tr>\n",
       "  </tbody>\n",
       "</table>\n",
       "<p>2132 rows × 31 columns</p>\n",
       "</div>"
      ],
      "text/plain": [
       "      avgAnnCount  avgDeathsPerYear  incidenceRate  medIncome  popEst2015  povertyPercent  studyPerCap  MedianAge  MedianAgeMale  MedianAgeFemale  AvgHouseholdSize  PercentMarried  PctNoHS18_24  PctHS18_24  PctBachDeg18_24  PctHS25_Over  PctBachDeg25_Over  PctEmployed16_Over  PctUnemployed16_Over  PctPrivateCoverage  PctPrivateCoverageAlone  PctEmpPrivCoverage  PctPublicCoverage  PctPublicCoverageAlone  PctWhite  PctBlack  PctAsian  PctOtherRace  PctMarriedHouseholds  BirthRate  binnedInc\n",
       "0       -0.395989         -0.313079      -0.514776  -1.216887   -0.310357        0.819610    -0.288880   0.050276       1.209209         1.551543         -0.497547        0.710666      0.401975    0.141348        -1.323715      0.728347          -0.978466           -1.674465              0.646963           -1.075292                -0.005523           -1.315517           1.699384                1.241834  0.816995 -0.541774 -0.394545     -0.453103              0.603736  -0.415957        0.0\n",
       "1        1.070419         -0.393116       0.093336  -0.145842   -0.348968       -0.770099    -0.288880   0.086012       1.800107         1.832973         -0.882801        1.309946      0.119514   -1.473368         2.623642     -0.318502           1.299823            0.666068             -1.589765            1.204429                -0.196513           -0.431344           0.333840               -1.071716  0.505452 -0.409662 -0.019744     -0.563402              0.305638   2.599053        5.0\n",
       "2       -0.347362         -0.261945      -0.255576  -0.161401   -0.264898       -0.595231    -0.288880  -0.027500       0.637371         0.707253         -0.015980       -0.487893     -0.040138    0.860229         0.281990      1.043836          -0.806159           -0.155609             -0.206525            0.155185                -0.252686            0.016069           0.841042                0.370061  0.654669 -0.461395 -0.307964     -0.463634             -0.236884  -0.345826        4.0\n",
       "3       -0.226577         -0.068523      -0.714161  -1.079999   -0.157246        1.232934    -0.288880  -0.044317       0.542065         0.519633         -0.425312        0.199086     -0.801554    0.074990        -0.007929      0.570603          -0.480689           -0.628695              0.087781           -0.617440                -0.881831           -0.687008           0.867053                0.604769  0.799673 -0.536022 -0.347211     -0.538258             -0.117413  -0.990820        1.0\n",
       "4       -0.453244         -0.390893      -2.561187   0.866027   -0.341497       -1.151629    -0.288880   0.151176       2.219454         2.133165         -0.425312        1.339179     -0.113823    0.263005        -0.833083     -2.225777           3.367515            0.267679             -0.324248            0.517651                 0.151764           -1.017242          -0.160357               -0.887303  0.863953 -0.626071 -0.159600     -0.563402              0.859057  -1.682126        8.0\n",
       "...           ...               ...            ...        ...         ...             ...          ...        ...            ...              ...               ...             ...           ...         ...              ...           ...                ...                 ...                   ...                 ...                      ...                 ...                ...                     ...       ...       ...       ...           ...                   ...        ...        ...\n",
       "2127    -0.206185         -0.061853      -0.048941  -0.463236   -0.140801        0.104241    -0.229579  -0.094767       0.046473        -0.024465          0.272960       -0.268645     -0.224351    0.727512        -0.007929      1.172900          -0.748723           -0.578897              0.058351           -0.169126                -0.005523            0.122596           0.828037                0.705359  0.720577 -0.474954 -0.305512     -0.534010             -0.243522  -0.130923        3.0\n",
       "2128    -0.380303         -0.324196       0.886354   1.207567   -0.296647       -1.247012    -0.288880   0.004031       1.018596         0.969921          0.730449       -0.677909     -1.415599   -1.108398         3.649509     -1.695182           2.276233            0.989758             -0.765707            0.584422                -0.005523            0.250428          -0.186367                0.118589  0.548994 -0.393192 -0.176299     -0.288837              0.323484  -1.212346        8.0\n",
       "2129    -0.021087          0.060425       0.159506   0.232429    0.062333       -0.674717     0.937328  -0.216687      -0.963773        -1.093898         -0.184529       -0.677909     -1.587532   -0.942502         0.505004     -1.035523           1.204097            1.350798             -0.706846            1.194891                 1.567339            1.624625          -0.992688               -0.920833  0.479827 -0.528629  1.229774     -0.384152             -0.557245  -0.353065        6.0\n",
       "2130     1.070419         -0.390893       0.093336   0.325615   -0.348794       -1.024453    -0.288880   0.035562       1.094841         1.495257         -0.569782        2.523122     -1.169981   -0.677069         0.036674      0.398518           0.802046            1.039557             -1.736918            0.985042                -0.005523           -0.655050          -0.511496               -1.105246  0.812459 -0.556825 -0.267121     -0.523133              1.719896   1.664770        6.0\n",
       "2131     0.112247          0.278302       0.543775  -0.127562    0.068622       -0.483952     0.254783  -0.035909       0.694555         0.463347         -0.497547       -0.327111     -0.948925    0.097110         0.371196      0.097369           0.399995            0.018686             -0.029941            0.307803                 0.185468            0.378260           0.385861               -0.049060  0.757960 -0.570645 -0.181968     -0.451549             -0.635417  -0.410163        5.0\n",
       "\n",
       "[2132 rows x 31 columns]"
      ]
     },
     "execution_count": 22,
     "metadata": {},
     "output_type": "execute_result"
    }
   ],
   "source": [
    "X_train"
   ]
  },
  {
   "cell_type": "code",
   "execution_count": 87,
   "metadata": {},
   "outputs": [
    {
     "name": "stdout",
     "output_type": "stream",
     "text": [
      "Fitting 5 folds for each of 2132 candidates, totalling 10660 fits\n"
     ]
    },
    {
     "name": "stderr",
     "output_type": "stream",
     "text": [
      "[Parallel(n_jobs=-1)]: Using backend LokyBackend with 8 concurrent workers.\n",
      "[Parallel(n_jobs=-1)]: Done  25 tasks      | elapsed:    2.8s\n",
      "[Parallel(n_jobs=-1)]: Done 2192 tasks      | elapsed:    5.2s\n"
     ]
    },
    {
     "name": "stdout",
     "output_type": "stream",
     "text": [
      "Best Score: 0.5219288829697899\n",
      "Best Hyperparameters: {'selectkbest__k': 26}\n"
     ]
    },
    {
     "name": "stderr",
     "output_type": "stream",
     "text": [
      "[Parallel(n_jobs=-1)]: Done 10660 out of 10660 | elapsed:   10.6s finished\n"
     ]
    }
   ],
   "source": [
    "kbest = SelectKBest(f_regression) \n",
    "\n",
    "    \n",
    "pipeline = make_pipeline(kbest, LinearRegression())\n",
    "# define search parameters\n",
    "k = [k+1 for k in range(len(X_train))]\n",
    "params = {'selectkbest__k': k}\n",
    "search = GridSearchCV(pipeline, param_grid=params, n_jobs=-1, cv=5, verbose=2)\n",
    "# execute search\n",
    "result = search.fit(X_train, y_train)\n",
    "# summarize result\n",
    "print(f\"Best Score: {result.best_score_}\")\n",
    "print(f\"Best Hyperparameters: {result.best_params_}\")"
   ]
  },
  {
   "cell_type": "code",
   "execution_count": 24,
   "metadata": {},
   "outputs": [],
   "source": [
    "score_mean = result.cv_results_['mean_test_score']\n",
    "score_std = result.cv_results_['std_test_score']\n",
    "cv_k = [k for k in result.cv_results_['param_selectkbest__k']]"
   ]
  },
  {
   "cell_type": "code",
   "execution_count": 25,
   "metadata": {},
   "outputs": [
    {
     "data": {
      "image/png": "[encoded data removed]",
      "text/plain": [
       "<Figure size 720x360 with 1 Axes>"
      ]
     },
     "metadata": {},
     "output_type": "display_data"
    }
   ],
   "source": [
    "#Assign the value of k from the above dict of `best_params_` and assign it to `best_k`\n",
    "best_k = result.best_params_['selectkbest__k']\n",
    "plt.subplots(figsize=(10, 5))\n",
    "plt.errorbar(cv_k, score_mean, yerr=score_std)\n",
    "plt.axvline(x=best_k, c='r', ls='--', alpha=.5)\n",
    "plt.xlabel('k')\n",
    "plt.ylabel('CV score (r-squared)')\n",
    "plt.title('Pipeline mean CV score (error bars +/- 1sd)');"
   ]
  },
  {
   "cell_type": "code",
   "execution_count": 26,
   "metadata": {},
   "outputs": [
    {
     "name": "stdout",
     "output_type": "stream",
     "text": [
      "[ True  True  True  True  True  True False False False False False  True\n",
      "  True  True  True  True  True  True  True  True  True  True  True  True\n",
      "  True  True  True  True  True  True  True]\n"
     ]
    }
   ],
   "source": [
    "selected = result.best_estimator_.named_steps.selectkbest.get_support()\n",
    "print(selected)"
   ]
  },
  {
   "cell_type": "code",
   "execution_count": 27,
   "metadata": {},
   "outputs": [
    {
     "data": {
      "text/plain": [
       "avgDeathsPerYear           11.203846\n",
       "incidenceRate              10.910853\n",
       "PercentMarried              5.347856\n",
       "medIncome                   5.300699\n",
       "PctPublicCoverageAlone      3.790988\n",
       "PctEmpPrivCoverage          3.593822\n",
       "PctHS25_Over                2.383289\n",
       "PctHS18_24                  2.102319\n",
       "povertyPercent              0.837716\n",
       "PctPrivateCoverageAlone     0.249199\n",
       "PctUnemployed16_Over       -0.015172\n",
       "PctAsian                   -0.084725\n",
       "PctNoHS18_24               -1.048261\n",
       "PctBachDeg18_24            -1.296108\n",
       "BirthRate                  -1.681699\n",
       "PctEmployed16_Over         -2.186639\n",
       "binnedInc                  -2.331142\n",
       "PctBlack                   -2.812817\n",
       "PctOtherRace               -2.864460\n",
       "PctWhite                   -3.097777\n",
       "avgAnnCount                -4.112622\n",
       "PctPrivateCoverage         -5.310665\n",
       "PctPublicCoverage          -5.530087\n",
       "PctBachDeg25_Over          -7.465091\n",
       "PctMarriedHouseholds       -7.712393\n",
       "popEst2015                 -8.087723\n",
       "dtype: float64"
      ]
     },
     "execution_count": 27,
     "metadata": {},
     "output_type": "execute_result"
    }
   ],
   "source": [
    "#get the matching feature names from the column names of the dataframe,\n",
    "coefs = result.best_estimator_.named_steps.linearregression.coef_\n",
    "features = X_train.columns[selected]\n",
    "pd.Series(coefs, index=features).sort_values(ascending=False)"
   ]
  },
  {
   "cell_type": "code",
   "execution_count": 141,
   "metadata": {},
   "outputs": [],
   "source": [
    "y_te_pred = result.best_estimator_.predict(X_test)"
   ]
  },
  {
   "cell_type": "code",
   "execution_count": 142,
   "metadata": {},
   "outputs": [
    {
     "data": {
      "text/plain": [
       "0.4611867471322454"
      ]
     },
     "execution_count": 142,
     "metadata": {},
     "output_type": "execute_result"
    }
   ],
   "source": [
    "r2_score(y_test, y_te_pred)"
   ]
  },
  {
   "cell_type": "code",
   "execution_count": 143,
   "metadata": {},
   "outputs": [
    {
     "data": {
      "text/plain": [
       "15.661348882899386"
      ]
     },
     "execution_count": 143,
     "metadata": {},
     "output_type": "execute_result"
    }
   ],
   "source": [
    "mean_absolute_error(y_test, y_te_pred)"
   ]
  },
  {
   "cell_type": "code",
   "execution_count": 144,
   "metadata": {},
   "outputs": [
    {
     "data": {
      "text/plain": [
       "438.43780502982867"
      ]
     },
     "execution_count": 144,
     "metadata": {},
     "output_type": "execute_result"
    }
   ],
   "source": [
    "mean_squared_error(y_test, y_te_pred)"
   ]
  },
  {
   "cell_type": "markdown",
   "metadata": {},
   "source": [
    "### Ridge Regression Model 2"
   ]
  },
  {
   "cell_type": "code",
   "execution_count": 40,
   "metadata": {},
   "outputs": [],
   "source": [
    "from sklearn.linear_model import Ridge\n",
    "from sklearn.linear_model import Lasso\n",
    "from sklearn.linear_model import ElasticNet"
   ]
  },
  {
   "cell_type": "code",
   "execution_count": 41,
   "metadata": {},
   "outputs": [
    {
     "name": "stdout",
     "output_type": "stream",
     "text": [
      "Fitting 5 folds for each of 7 candidates, totalling 35 fits\n"
     ]
    },
    {
     "name": "stderr",
     "output_type": "stream",
     "text": [
      "[Parallel(n_jobs=-1)]: Using backend LokyBackend with 8 concurrent workers.\n"
     ]
    },
    {
     "name": "stdout",
     "output_type": "stream",
     "text": [
      "Best Score MSE:  356.4571709887121\n",
      "Best Params:  {'alpha': 10}\n"
     ]
    },
    {
     "name": "stderr",
     "output_type": "stream",
     "text": [
      "[Parallel(n_jobs=-1)]: Done  35 out of  35 | elapsed:    2.0s finished\n"
     ]
    }
   ],
   "source": [
    "ridge = Ridge(random_state= 42)\n",
    "# find optimal alpha with grid search\n",
    "param_grid = { 'alpha': [0.001, 0.01, 0.1, 1, 10, 100, 1000]}\n",
    "grid = GridSearchCV( estimator=ridge, param_grid=param_grid, scoring='neg_mean_squared_error', verbose=1, n_jobs=-1)\n",
    "grid_result = grid.fit(X_train, y_train)\n",
    "print('Best Score MSE: ', -grid_result.best_score_)\n",
    "print('Best Params: ', grid_result.best_params_)"
   ]
  },
  {
   "cell_type": "markdown",
   "metadata": {},
   "source": [
    "#### Ridge optimizing R-squared"
   ]
  },
  {
   "cell_type": "code",
   "execution_count": 93,
   "metadata": {},
   "outputs": [
    {
     "name": "stdout",
     "output_type": "stream",
     "text": [
      "Fitting 5 folds for each of 7 candidates, totalling 35 fits\n"
     ]
    },
    {
     "name": "stderr",
     "output_type": "stream",
     "text": [
      "[Parallel(n_jobs=-1)]: Using backend LokyBackend with 8 concurrent workers.\n"
     ]
    },
    {
     "name": "stdout",
     "output_type": "stream",
     "text": [
      "Best Score R-squared:  0.5200566337510354\n",
      "Best Params:  {'alpha': 10}\n"
     ]
    },
    {
     "name": "stderr",
     "output_type": "stream",
     "text": [
      "[Parallel(n_jobs=-1)]: Done  35 out of  35 | elapsed:    2.1s finished\n"
     ]
    }
   ],
   "source": [
    "ridge = Ridge(random_state= 42)\n",
    "# find optimal alpha with grid search\n",
    "param_grid = { 'alpha': [0.001, 0.01, 0.1, 1, 10, 100, 1000]}\n",
    "grid = GridSearchCV( estimator=ridge, param_grid=param_grid, scoring='r2', verbose=1, n_jobs=-1)\n",
    "grid_result = grid.fit(X_train, y_train)\n",
    "print('Best Score R-squared: ', grid_result.best_score_)\n",
    "print('Best Params: ', grid_result.best_params_)"
   ]
  },
  {
   "cell_type": "code",
   "execution_count": 137,
   "metadata": {},
   "outputs": [],
   "source": [
    "y_te_pred =grid_result.best_estimator_.predict(X_test)"
   ]
  },
  {
   "cell_type": "code",
   "execution_count": 138,
   "metadata": {},
   "outputs": [
    {
     "data": {
      "text/plain": [
       "0.4635285959523937"
      ]
     },
     "execution_count": 138,
     "metadata": {},
     "output_type": "execute_result"
    }
   ],
   "source": [
    "r2_score(y_test, y_te_pred)"
   ]
  },
  {
   "cell_type": "code",
   "execution_count": 139,
   "metadata": {},
   "outputs": [
    {
     "data": {
      "text/plain": [
       "15.637053403625288"
      ]
     },
     "execution_count": 139,
     "metadata": {},
     "output_type": "execute_result"
    }
   ],
   "source": [
    "mean_absolute_error(y_test, y_te_pred)"
   ]
  },
  {
   "cell_type": "code",
   "execution_count": 140,
   "metadata": {},
   "outputs": [
    {
     "data": {
      "text/plain": [
       "436.53221890893656"
      ]
     },
     "execution_count": 140,
     "metadata": {},
     "output_type": "execute_result"
    }
   ],
   "source": [
    "mean_squared_error(y_test, y_te_pred)"
   ]
  },
  {
   "cell_type": "markdown",
   "metadata": {},
   "source": [
    "### Lasso Regression Model 3"
   ]
  },
  {
   "cell_type": "markdown",
   "metadata": {},
   "source": [
    "#### Lasso optimizing MSE "
   ]
  },
  {
   "cell_type": "code",
   "execution_count": 47,
   "metadata": {
    "scrolled": true
   },
   "outputs": [
    {
     "name": "stdout",
     "output_type": "stream",
     "text": [
      "Fitting 5 folds for each of 7 candidates, totalling 35 fits\n"
     ]
    },
    {
     "name": "stderr",
     "output_type": "stream",
     "text": [
      "[Parallel(n_jobs=-1)]: Using backend LokyBackend with 8 concurrent workers.\n"
     ]
    },
    {
     "name": "stdout",
     "output_type": "stream",
     "text": [
      "Best Score MSE:  356.0619084435533\n",
      "Best Params:  {'alpha': 0.1}\n"
     ]
    },
    {
     "name": "stderr",
     "output_type": "stream",
     "text": [
      "[Parallel(n_jobs=-1)]: Done  35 out of  35 | elapsed:    2.2s finished\n"
     ]
    }
   ],
   "source": [
    "lasso = Lasso(random_state= 42)\n",
    "# find optimal alpha with grid search\n",
    "param_grid = { 'alpha': [0.001, 0.01, 0.1, 1, 10, 100, 1000]}\n",
    "grid = GridSearchCV( estimator=lasso, param_grid=param_grid, scoring='neg_mean_squared_error', verbose=1, n_jobs=-1)\n",
    "grid_result = grid.fit(X_train, y_train)\n",
    "print('Best Score MSE: ', -grid_result.best_score_)\n",
    "print('Best Params: ', grid_result.best_params_)"
   ]
  },
  {
   "cell_type": "markdown",
   "metadata": {},
   "source": [
    "#### Lasso optimizing R-squared"
   ]
  },
  {
   "cell_type": "code",
   "execution_count": 99,
   "metadata": {},
   "outputs": [
    {
     "name": "stdout",
     "output_type": "stream",
     "text": [
      "Fitting 5 folds for each of 7 candidates, totalling 35 fits\n",
      "Best Score R-squared:  0.5203429454127961\n",
      "Best Params:  {'alpha': 0.1}\n"
     ]
    },
    {
     "name": "stderr",
     "output_type": "stream",
     "text": [
      "[Parallel(n_jobs=-1)]: Using backend LokyBackend with 8 concurrent workers.\n",
      "[Parallel(n_jobs=-1)]: Done  20 out of  35 | elapsed:    0.1s remaining:    0.1s\n",
      "[Parallel(n_jobs=-1)]: Done  35 out of  35 | elapsed:    0.1s finished\n"
     ]
    }
   ],
   "source": [
    "lasso = Lasso(random_state= 42)\n",
    "# find optimal alpha with grid search\n",
    "param_grid = { 'alpha': [0.001, 0.01, 0.1, 1, 10, 100, 1000]}\n",
    "grid = GridSearchCV( estimator=lasso, param_grid=param_grid, scoring='r2', verbose=1, n_jobs=-1)\n",
    "lasso_result = grid.fit(X_train, y_train)\n",
    "print('Best Score R-squared: ', lasso_result.best_score_)\n",
    "print('Best Params: ', lasso_result.best_params_)"
   ]
  },
  {
   "cell_type": "code",
   "execution_count": 132,
   "metadata": {},
   "outputs": [],
   "source": [
    "y_te_pred =lasso_result.best_estimator_.predict(X_test)"
   ]
  },
  {
   "cell_type": "code",
   "execution_count": 133,
   "metadata": {},
   "outputs": [
    {
     "data": {
      "text/plain": [
       "0.46877705503939027"
      ]
     },
     "execution_count": 133,
     "metadata": {},
     "output_type": "execute_result"
    }
   ],
   "source": [
    "r2_score(y_test, y_te_pred)"
   ]
  },
  {
   "cell_type": "code",
   "execution_count": 134,
   "metadata": {},
   "outputs": [
    {
     "data": {
      "text/plain": [
       "15.566729382146194"
      ]
     },
     "execution_count": 134,
     "metadata": {},
     "output_type": "execute_result"
    }
   ],
   "source": [
    "mean_absolute_error(y_test, y_te_pred)"
   ]
  },
  {
   "cell_type": "code",
   "execution_count": 135,
   "metadata": {},
   "outputs": [
    {
     "data": {
      "text/plain": [
       "432.2614945538019"
      ]
     },
     "execution_count": 135,
     "metadata": {},
     "output_type": "execute_result"
    }
   ],
   "source": [
    "mean_squared_error(y_test, y_te_pred)"
   ]
  },
  {
   "cell_type": "markdown",
   "metadata": {},
   "source": [
    "### ElasticNet Regression Model 4"
   ]
  },
  {
   "cell_type": "markdown",
   "metadata": {},
   "source": [
    "#### ElasticNet optimizing MSE "
   ]
  },
  {
   "cell_type": "code",
   "execution_count": 104,
   "metadata": {},
   "outputs": [
    {
     "name": "stdout",
     "output_type": "stream",
     "text": [
      "Fitting 5 folds for each of 77 candidates, totalling 385 fits\n"
     ]
    },
    {
     "name": "stderr",
     "output_type": "stream",
     "text": [
      "[Parallel(n_jobs=-1)]: Using backend LokyBackend with 8 concurrent workers.\n",
      "[Parallel(n_jobs=-1)]: Done  56 tasks      | elapsed:    0.5s\n"
     ]
    },
    {
     "name": "stdout",
     "output_type": "stream",
     "text": [
      "Best Score MSE:  356.0619084435533\n",
      "Best Params:  {'alpha': 0.1, 'l1_ratio': 1}\n"
     ]
    },
    {
     "name": "stderr",
     "output_type": "stream",
     "text": [
      "[Parallel(n_jobs=-1)]: Done 385 out of 385 | elapsed:    2.1s finished\n"
     ]
    }
   ],
   "source": [
    "elastic_net = ElasticNet(random_state= 42)\n",
    "# find optimal alpha with grid search\n",
    "param_grid = {\n",
    "    'alpha': [0.001, 0.01, 0.1, 1, 10, 100, 1000],\n",
    "    'l1_ratio': [0, 0.1, 0.2, 0.3, 0.4, 0.5, 0.6, 0.7, 0.8, 0.9, 1]\n",
    "}\n",
    "grid = GridSearchCV( estimator=elastic_net, param_grid=param_grid, scoring='neg_mean_squared_error', verbose=1, n_jobs=-1)\n",
    "el_result = grid.fit(X_train, y_train)\n",
    "print('Best Score MSE: ', -el_result.best_score_)\n",
    "print('Best Params: ', el_result.best_params_)"
   ]
  },
  {
   "cell_type": "code",
   "execution_count": 125,
   "metadata": {},
   "outputs": [],
   "source": [
    "y_te_pred =el_result.best_estimator_.predict(X_test)"
   ]
  },
  {
   "cell_type": "code",
   "execution_count": 126,
   "metadata": {},
   "outputs": [
    {
     "data": {
      "text/plain": [
       "0.46877705503939027"
      ]
     },
     "execution_count": 126,
     "metadata": {},
     "output_type": "execute_result"
    }
   ],
   "source": [
    "r2_score(y_test, y_te_pred)"
   ]
  },
  {
   "cell_type": "code",
   "execution_count": 127,
   "metadata": {},
   "outputs": [
    {
     "data": {
      "text/plain": [
       "15.566729382146194"
      ]
     },
     "execution_count": 127,
     "metadata": {},
     "output_type": "execute_result"
    }
   ],
   "source": [
    "mean_absolute_error(y_test, y_te_pred)"
   ]
  },
  {
   "cell_type": "code",
   "execution_count": 128,
   "metadata": {},
   "outputs": [
    {
     "data": {
      "text/plain": [
       "432.2614945538019"
      ]
     },
     "execution_count": 128,
     "metadata": {},
     "output_type": "execute_result"
    }
   ],
   "source": [
    "mean_squared_error(y_test, y_te_pred)"
   ]
  },
  {
   "cell_type": "markdown",
   "metadata": {},
   "source": [
    "#### ElasticNet optimizing R-squared "
   ]
  },
  {
   "cell_type": "code",
   "execution_count": 50,
   "metadata": {},
   "outputs": [
    {
     "name": "stdout",
     "output_type": "stream",
     "text": [
      "Fitting 5 folds for each of 77 candidates, totalling 385 fits\n"
     ]
    },
    {
     "name": "stderr",
     "output_type": "stream",
     "text": [
      "[Parallel(n_jobs=-1)]: Using backend LokyBackend with 8 concurrent workers.\n",
      "[Parallel(n_jobs=-1)]: Done  56 tasks      | elapsed:    0.4s\n"
     ]
    },
    {
     "name": "stdout",
     "output_type": "stream",
     "text": [
      "Best Score R-squared:  0.5203429454127961\n",
      "Best Params:  {'alpha': 0.1, 'l1_ratio': 1}\n"
     ]
    },
    {
     "name": "stderr",
     "output_type": "stream",
     "text": [
      "[Parallel(n_jobs=-1)]: Done 385 out of 385 | elapsed:    1.1s finished\n"
     ]
    }
   ],
   "source": [
    "elastic_net = ElasticNet(random_state= 42)\n",
    "# find optimal alpha with grid search\n",
    "param_grid = {\n",
    "    'alpha': [0.001, 0.01, 0.1, 1, 10, 100, 1000],\n",
    "    'l1_ratio': [0, 0.1, 0.2, 0.3, 0.4, 0.5, 0.6, 0.7, 0.8, 0.9, 1]\n",
    "}\n",
    "grid = GridSearchCV( estimator=elastic_net, param_grid=param_grid, scoring='r2', verbose=1, n_jobs=-1)\n",
    "grid_result = grid.fit(X_train, y_train)\n",
    "print('Best Score R-squared: ', grid_result.best_score_)\n",
    "print('Best Params: ', grid_result.best_params_)"
   ]
  },
  {
   "cell_type": "markdown",
   "metadata": {},
   "source": [
    "### 3.4 XGBoost Model 5"
   ]
  },
  {
   "cell_type": "code",
   "execution_count": 52,
   "metadata": {},
   "outputs": [],
   "source": [
    "import xgboost as xgb\n",
    "from xgboost import XGBRegressor"
   ]
  },
  {
   "cell_type": "markdown",
   "metadata": {},
   "source": [
    "#### XGB optimizing MSE "
   ]
  },
  {
   "cell_type": "code",
   "execution_count": 53,
   "metadata": {},
   "outputs": [
    {
     "name": "stdout",
     "output_type": "stream",
     "text": [
      "Fitting 3 folds for each of 864 candidates, totalling 2592 fits\n"
     ]
    },
    {
     "name": "stderr",
     "output_type": "stream",
     "text": [
      "[Parallel(n_jobs=-1)]: Using backend LokyBackend with 8 concurrent workers.\n",
      "[Parallel(n_jobs=-1)]: Done  34 tasks      | elapsed:    7.2s\n",
      "[Parallel(n_jobs=-1)]: Done 184 tasks      | elapsed:   53.4s\n",
      "[Parallel(n_jobs=-1)]: Done 434 tasks      | elapsed:  2.2min\n",
      "[Parallel(n_jobs=-1)]: Done 784 tasks      | elapsed:  4.5min\n",
      "[Parallel(n_jobs=-1)]: Done 1234 tasks      | elapsed:  7.1min\n",
      "[Parallel(n_jobs=-1)]: Done 1784 tasks      | elapsed: 10.6min\n",
      "[Parallel(n_jobs=-1)]: Done 2434 tasks      | elapsed: 15.1min\n",
      "[Parallel(n_jobs=-1)]: Done 2592 out of 2592 | elapsed: 16.3min finished\n"
     ]
    },
    {
     "name": "stdout",
     "output_type": "stream",
     "text": [
      "[03:02:04] WARNING: /Users/runner/miniforge3/conda-bld/xgboost_1593723618214/work/src/learner.cc:480: \n",
      "Parameters: { reg-lambda } might not be used.\n",
      "\n",
      "  This may not be accurate due to some parameters are only used in language bindings but\n",
      "  passed down to XGBoost core.  Or some parameters are not used but slip through this\n",
      "  verification. Please open an issue if you find above cases.\n",
      "\n",
      "\n",
      "Best parameters: {'colsample_bytree': 0.4, 'gamma': 0.1, 'learning_rate': 0.1, 'max_depth': 3, 'n_estimators': 1000, 'reg-lambda': 0.5, 'reg_alpha': 10}\n",
      "Lowest MSE:  271.8893997000118\n",
      "Lowest RMSE:  16.489069097435785\n"
     ]
    }
   ],
   "source": [
    "param_grid={\"learning_rate\": ( 0.05, 0.10, 0.15),\n",
    "            \"max_depth\": [ 3, 6],\n",
    "            \"reg-lambda\":[0.5, 1, 10, 40],\n",
    "            \"reg_alpha\":[0, 1, 10],\n",
    "            \"gamma\":[ 0.0, 0.1, 0.2],\n",
    "            \"colsample_bytree\":[ 0.3, 0.4],\n",
    "            'n_estimators': [500, 1000]}\n",
    "gsc = GridSearchCV(\n",
    "            estimator=xgb.XGBRegressor(), param_grid = param_grid,\n",
    "            cv=3, scoring='neg_mean_squared_error', verbose=1, n_jobs=-1)\n",
    "\n",
    "gsc.fit(X_train, y_train)\n",
    "\n",
    "print(\"Best parameters:\", gsc.best_params_)\n",
    "print(\"Lowest MSE: \", -gsc.best_score_)\n",
    "print(\"Lowest RMSE: \", (-gsc.best_score_)**(1/2.0))\n"
   ]
  },
  {
   "cell_type": "code",
   "execution_count": 59,
   "metadata": {},
   "outputs": [
    {
     "name": "stdout",
     "output_type": "stream",
     "text": [
      "Fitting 3 folds for each of 144 candidates, totalling 432 fits\n"
     ]
    },
    {
     "name": "stderr",
     "output_type": "stream",
     "text": [
      "[Parallel(n_jobs=-1)]: Using backend LokyBackend with 8 concurrent workers.\n",
      "[Parallel(n_jobs=-1)]: Done  34 tasks      | elapsed:    9.7s\n",
      "[Parallel(n_jobs=-1)]: Done 184 tasks      | elapsed:   52.2s\n",
      "[Parallel(n_jobs=-1)]: Done 432 out of 432 | elapsed:  2.7min finished\n"
     ]
    },
    {
     "name": "stdout",
     "output_type": "stream",
     "text": [
      "Best parameters: {'colsample_bytree': 0.5, 'gamma': 0.1, 'learning_rate': 0.1, 'max_depth': 3, 'min_child_weight': 5, 'n_estimators': 1000, 'reg_alpha': 50}\n",
      "Lowest MSE:  256.46986679292803\n",
      "Lowest RMSE:  16.01467660594269\n"
     ]
    }
   ],
   "source": [
    "param_grid={\"learning_rate\": [0.05, 0.10],\n",
    "            \"max_depth\": [3],\n",
    "            \"min_child_weight\": [ 1, 3, 5, 7],\n",
    "            \"reg_alpha\":[10, 50],\n",
    "            \"gamma\":[ 0.0, 0.1, 0.2],\n",
    "            \"colsample_bytree\":[ 0.3, 0.4, 0.5],\n",
    "            'n_estimators': [1000]}\n",
    "gsc = GridSearchCV(\n",
    "            estimator=xgb.XGBRegressor(), param_grid = param_grid,\n",
    "            cv=3, scoring='neg_mean_squared_error', verbose=1, n_jobs=-1)\n",
    "\n",
    "gsc.fit(X_train, y_train)\n",
    "\n",
    "print(\"Best parameters:\", gsc.best_params_)\n",
    "print(\"Lowest MSE: \", -gsc.best_score_)\n",
    "print(\"Lowest RMSE: \", (-gsc.best_score_)**(1/2.0))"
   ]
  },
  {
   "cell_type": "markdown",
   "metadata": {},
   "source": [
    "#### XGB optimizing R-squaredN "
   ]
  },
  {
   "cell_type": "code",
   "execution_count": 57,
   "metadata": {},
   "outputs": [
    {
     "name": "stdout",
     "output_type": "stream",
     "text": [
      "Fitting 3 folds for each of 144 candidates, totalling 432 fits\n"
     ]
    },
    {
     "name": "stderr",
     "output_type": "stream",
     "text": [
      "[Parallel(n_jobs=-1)]: Using backend LokyBackend with 8 concurrent workers.\n",
      "[Parallel(n_jobs=-1)]: Done  34 tasks      | elapsed:   12.8s\n",
      "[Parallel(n_jobs=-1)]: Done 184 tasks      | elapsed:   56.1s\n",
      "[Parallel(n_jobs=-1)]: Done 432 out of 432 | elapsed:  2.7min finished\n"
     ]
    },
    {
     "name": "stdout",
     "output_type": "stream",
     "text": [
      "Best parameters: {'colsample_bytree': 0.5, 'gamma': 0.1, 'learning_rate': 0.1, 'max_depth': 3, 'min_child_weight': 5, 'n_estimators': 1000, 'reg_alpha': 50}\n",
      "R-squared:  0.6585550004422177\n"
     ]
    }
   ],
   "source": [
    "param_grid={\"learning_rate\": [0.05, 0.10],\n",
    "            \"max_depth\": [3],\n",
    "            \"min_child_weight\": [ 1, 3, 5, 7],\n",
    "            \"reg_alpha\":[10, 50],\n",
    "            \"gamma\":[ 0.0, 0.1, 0.2],\n",
    "            \"colsample_bytree\":[ 0.3, 0.4, 0.5],\n",
    "            'n_estimators': [1000]}\n",
    "gsc = GridSearchCV(\n",
    "            estimator=xgb.XGBRegressor(), param_grid = param_grid,\n",
    "            cv=3, scoring='r2', verbose=1, n_jobs=-1)\n",
    "\n",
    "gsc.fit(X_train, y_train)\n",
    "\n",
    "print(\"Best parameters:\", gsc.best_params_)\n",
    "print(\"R-squared: \", gsc.best_score_)\n"
   ]
  },
  {
   "cell_type": "code",
   "execution_count": 60,
   "metadata": {},
   "outputs": [],
   "source": [
    "xgbbest_model = gsc.best_estimator_"
   ]
  },
  {
   "cell_type": "code",
   "execution_count": 121,
   "metadata": {},
   "outputs": [],
   "source": [
    "y_te_pred =xgbbest_model.predict(X_test)"
   ]
  },
  {
   "cell_type": "code",
   "execution_count": 122,
   "metadata": {},
   "outputs": [
    {
     "data": {
      "text/plain": [
       "0.6984209603007427"
      ]
     },
     "execution_count": 122,
     "metadata": {},
     "output_type": "execute_result"
    }
   ],
   "source": [
    "r2_score(y_test, y_te_pred)"
   ]
  },
  {
   "cell_type": "code",
   "execution_count": 123,
   "metadata": {},
   "outputs": [
    {
     "data": {
      "text/plain": [
       "11.079733825016543"
      ]
     },
     "execution_count": 123,
     "metadata": {},
     "output_type": "execute_result"
    }
   ],
   "source": [
    "mean_absolute_error(y_test, y_te_pred)"
   ]
  },
  {
   "cell_type": "code",
   "execution_count": 124,
   "metadata": {},
   "outputs": [
    {
     "data": {
      "text/plain": [
       "245.39792127421674"
      ]
     },
     "execution_count": 124,
     "metadata": {},
     "output_type": "execute_result"
    }
   ],
   "source": [
    " mean_squared_error(y_test, y_te_pred)"
   ]
  },
  {
   "cell_type": "markdown",
   "metadata": {},
   "source": [
    "### 3.5 Random Forest Model"
   ]
  },
  {
   "cell_type": "code",
   "execution_count": 62,
   "metadata": {},
   "outputs": [],
   "source": [
    "from sklearn.ensemble import RandomForestRegressor"
   ]
  },
  {
   "cell_type": "code",
   "execution_count": 61,
   "metadata": {},
   "outputs": [
    {
     "name": "stdout",
     "output_type": "stream",
     "text": [
      "Best Score R-squared: 0.5370039165753508\n",
      "Best Hyperparameters: {'max_depth': 24, 'n_estimators': 1000}\n"
     ]
    }
   ],
   "source": [
    "rfr = RandomForestRegressor(random_state= 42)\n",
    "grid_params = {\n",
    "    'n_estimators': [100,500,1000],\n",
    "    'max_depth': [3,6,12,24]}\n",
    "\n",
    "rf_grid_cv = GridSearchCV(estimator=rfr, scoring='r2', param_grid=grid_params, cv=3, verbose=0)\n",
    "\n",
    "rf_result =rf_grid_cv.fit(X_train, y_train)\n",
    "\n",
    "# summarize result\n",
    "print(f\"Best Score R-squared: {rf_result.best_score_}\")\n",
    "print(f\"Best Hyperparameters: {rf_result.best_params_}\")"
   ]
  },
  {
   "cell_type": "code",
   "execution_count": 63,
   "metadata": {},
   "outputs": [
    {
     "name": "stdout",
     "output_type": "stream",
     "text": [
      "Best Score MSE: 348.16146169764306\n",
      "Best Hyperparameters: {'max_depth': 24, 'n_estimators': 1000}\n"
     ]
    }
   ],
   "source": [
    "rfr = RandomForestRegressor(random_state= 42)\n",
    "grid_params = {\n",
    "    'n_estimators': [100,500,1000],\n",
    "    'max_depth': [3,6,12,24]}\n",
    "\n",
    "rf_grid_cv = GridSearchCV(estimator=rfr, scoring='neg_mean_squared_error', param_grid=grid_params, cv=3, verbose=0)\n",
    "\n",
    "rf_result =rf_grid_cv.fit(X_train, y_train)\n",
    "\n",
    "# summarize result\n",
    "print(f\"Best Score MSE: {-rf_result.best_score_}\")\n",
    "print(f\"Best Hyperparameters: {rf_result.best_params_}\")"
   ]
  },
  {
   "cell_type": "code",
   "execution_count": 117,
   "metadata": {},
   "outputs": [],
   "source": [
    "y_te_pred =rf_result.best_estimator_.predict(X_test)"
   ]
  },
  {
   "cell_type": "code",
   "execution_count": 118,
   "metadata": {},
   "outputs": [
    {
     "data": {
      "text/plain": [
       "0.5349091887972601"
      ]
     },
     "execution_count": 118,
     "metadata": {},
     "output_type": "execute_result"
    }
   ],
   "source": [
    "r2_score(y_test, y_te_pred)"
   ]
  },
  {
   "cell_type": "code",
   "execution_count": 119,
   "metadata": {},
   "outputs": [
    {
     "data": {
      "text/plain": [
       "14.337646713939554"
      ]
     },
     "execution_count": 119,
     "metadata": {},
     "output_type": "execute_result"
    }
   ],
   "source": [
    "mean_absolute_error(y_test, y_te_pred)"
   ]
  },
  {
   "cell_type": "code",
   "execution_count": 120,
   "metadata": {},
   "outputs": [
    {
     "data": {
      "text/plain": [
       "378.449107029147"
      ]
     },
     "execution_count": 120,
     "metadata": {},
     "output_type": "execute_result"
    }
   ],
   "source": [
    "mean_squared_error(y_test, y_te_pred)"
   ]
  },
  {
   "cell_type": "markdown",
   "metadata": {},
   "source": [
    "## 4. Final Model Selection"
   ]
  },
  {
   "cell_type": "markdown",
   "metadata": {},
   "source": [
    "### XGBoost Model"
   ]
  },
  {
   "cell_type": "code",
   "execution_count": 64,
   "metadata": {},
   "outputs": [],
   "source": [
    "xgbbest_model = gsc.best_estimator_\n",
    "# 'neg_mean_absolute_error' uses the (negative of) the mean absolute error\n",
    "xgb_neg_mae = cross_validate(xgbbest_model, X_train, y_train, \n",
    "                            scoring='neg_mean_absolute_error', cv=5, n_jobs=-1)"
   ]
  },
  {
   "cell_type": "code",
   "execution_count": 65,
   "metadata": {},
   "outputs": [
    {
     "data": {
      "text/plain": [
       "(11.354562736097094, 0.46471242217060943)"
      ]
     },
     "execution_count": 65,
     "metadata": {},
     "output_type": "execute_result"
    }
   ],
   "source": [
    "xgb_mae_mean = np.mean(-1 * xgb_neg_mae['test_score'])\n",
    "xgb_mae_std = np.std(-1 * xgb_neg_mae['test_score'])\n",
    "xgb_mae_mean, xgb_mae_std"
   ]
  },
  {
   "cell_type": "code",
   "execution_count": 66,
   "metadata": {},
   "outputs": [
    {
     "data": {
      "text/plain": [
       "11.079733825016543"
      ]
     },
     "execution_count": 66,
     "metadata": {},
     "output_type": "execute_result"
    }
   ],
   "source": [
    "mean_absolute_error(y_test, xgbbest_model.predict(X_test))"
   ]
  },
  {
   "cell_type": "code",
   "execution_count": null,
   "metadata": {},
   "outputs": [],
   "source": []
  },
  {
   "cell_type": "markdown",
   "metadata": {},
   "source": [
    "### RF Model"
   ]
  },
  {
   "cell_type": "code",
   "execution_count": 67,
   "metadata": {},
   "outputs": [],
   "source": [
    "# 'neg_mean_absolute_error' uses the (negative of) the mean absolute error\n",
    "rf_neg_mae = cross_validate(rf_result.best_estimator_, X_train, y_train, \n",
    "                            scoring='neg_mean_absolute_error', cv=5, n_jobs=-1)"
   ]
  },
  {
   "cell_type": "code",
   "execution_count": 68,
   "metadata": {},
   "outputs": [
    {
     "data": {
      "text/plain": [
       "(13.62243270653704, 0.6209810229737049)"
      ]
     },
     "execution_count": 68,
     "metadata": {},
     "output_type": "execute_result"
    }
   ],
   "source": [
    "rf_mae_mean = np.mean(-1 * rf_neg_mae['test_score'])\n",
    "rf_mae_std = np.std(-1 * rf_neg_mae['test_score'])\n",
    "rf_mae_mean, rf_mae_std"
   ]
  },
  {
   "cell_type": "code",
   "execution_count": 69,
   "metadata": {},
   "outputs": [
    {
     "data": {
      "text/plain": [
       "14.337646713939554"
      ]
     },
     "execution_count": 69,
     "metadata": {},
     "output_type": "execute_result"
    }
   ],
   "source": [
    "mean_absolute_error(y_test, rf_result.predict(X_test))"
   ]
  },
  {
   "cell_type": "markdown",
   "metadata": {},
   "source": [
    "XGBoost model is the best model with the highest R-squared and the lowest MSE, RMSE and MAE"
   ]
  },
  {
   "cell_type": "markdown",
   "metadata": {},
   "source": [
    "## Save best model"
   ]
  },
  {
   "cell_type": "code",
   "execution_count": 71,
   "metadata": {},
   "outputs": [],
   "source": [
    "import os\n",
    "import sys"
   ]
  },
  {
   "cell_type": "code",
   "execution_count": 75,
   "metadata": {},
   "outputs": [],
   "source": [
    "import pickle"
   ]
  },
  {
   "cell_type": "code",
   "execution_count": 76,
   "metadata": {},
   "outputs": [],
   "source": [
    "best_model = xgbbest_model\n",
    "best_model.version = '1.0'\n",
    "best_model.pandas_version = pd.__version__\n",
    "best_model.numpy_version = np.__version__\n",
    "best_model.sklearn_version = sklearn_version\n",
    "best_model.X_columns = [col for col in X_train.columns]\n",
    "best_model.build_datetime = datetime.datetime.now()"
   ]
  },
  {
   "cell_type": "code",
   "execution_count": 77,
   "metadata": {},
   "outputs": [],
   "source": [
    "# save the model to disk\n",
    "filename = 'cancer_deathrate.sav'\n",
    "pickle.dump(best_model, open(filename, 'wb'))"
   ]
  },
  {
   "cell_type": "code",
   "execution_count": null,
   "metadata": {},
   "outputs": [],
   "source": []
  }
 ],
 "metadata": {
  "kernelspec": {
   "display_name": "Python [conda env:root] *",
   "language": "python",
   "name": "conda-root-py"
  },
  "language_info": {
   "codemirror_mode": {
    "name": "ipython",
    "version": 3
   },
   "file_extension": ".py",
   "mimetype": "text/x-python",
   "name": "python",
   "nbconvert_exporter": "python",
   "pygments_lexer": "ipython3",
   "version": "3.8.5"
  }
 },
 "nbformat": 4,
 "nbformat_minor": 4
}
